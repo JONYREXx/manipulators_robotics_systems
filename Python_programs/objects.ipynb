{
 "cells": [
  {
   "cell_type": "markdown",
   "id": "6bae16f6-418f-4aef-87f0-82aa5bb9a351",
   "metadata": {
    "tags": []
   },
   "source": [
    "# Object oriented programming"
   ]
  },
  {
   "cell_type": "markdown",
   "id": "c18abdab-9509-449f-a5e8-f160d82d99a8",
   "metadata": {},
   "source": [
    "1. Creation\n",
    "2. Inheritance\n",
    "3. Polymorphism\n",
    "4. Encapsulation - Access levels"
   ]
  },
  {
   "cell_type": "markdown",
   "id": "67dd1178-a4e8-4956-ab2c-a829911bf8ca",
   "metadata": {},
   "source": [
    "### 1. Creation"
   ]
  },
  {
   "cell_type": "code",
   "execution_count": 4,
   "id": "2fe8bfea-5d97-49d4-ac50-3803f641746e",
   "metadata": {
    "tags": []
   },
   "outputs": [],
   "source": [
    "class Person:\n",
    "    def __init__(self, name, age, nat, gender):\n",
    "        self.name = name\n",
    "        self.age = age\n",
    "        self.nat = nat\n",
    "        self.gender = gender\n",
    "    \n",
    "    def greet(self):\n",
    "        print(f'{self.name} is greeting you')"
   ]
  },
  {
   "cell_type": "markdown",
   "id": "bf21df75-361b-4b70-b3bd-a60e9d42e5dd",
   "metadata": {},
   "source": [
    "##### def __init__(self, name, age, nat, gender): ;this is our constructor\n",
    "#####       self.name = name                     ;This are our atributes"
   ]
  },
  {
   "cell_type": "code",
   "execution_count": 8,
   "id": "ca82c4af-fcce-4878-8796-a913134695d9",
   "metadata": {
    "tags": []
   },
   "outputs": [
    {
     "name": "stdout",
     "output_type": "stream",
     "text": [
      "Andrey is greeting you\n"
     ]
    }
   ],
   "source": [
    "my_person = Person('Andrey', 22, 'MXN', 'Male')\n",
    "\n",
    "my_person.greet()"
   ]
  },
  {
   "cell_type": "code",
   "execution_count": 9,
   "id": "6bf29d90-5110-4df2-9e8c-8f4ca32aa0ce",
   "metadata": {
    "tags": []
   },
   "outputs": [
    {
     "name": "stdout",
     "output_type": "stream",
     "text": [
      "Age:  22\n",
      "Age:  22\n"
     ]
    }
   ],
   "source": [
    "print('Age: ', my_person.age)\n",
    "my_person.age = 22\n",
    "print('Age: ', my_person.age)"
   ]
  },
  {
   "cell_type": "markdown",
   "id": "0c89dc61-aab7-4be0-9c70-fac4834a2a45",
   "metadata": {
    "tags": []
   },
   "source": [
    "### 2. Inheritance"
   ]
  },
  {
   "cell_type": "code",
   "execution_count": 16,
   "id": "1d958a69-f724-42a9-af95-6cab23f6aa43",
   "metadata": {
    "tags": []
   },
   "outputs": [],
   "source": [
    "class Pokemon:\n",
    "    def __init__(self, name, style):\n",
    "        self.name = name \n",
    "        self.style = style\n",
    "    \n",
    "    def attack(self):\n",
    "        print(f'{self.name} is pushing...')\n",
    "        \n",
    "    def describe(self):\n",
    "        print(f'{self.name} is a {self.style} pokemon')"
   ]
  },
  {
   "cell_type": "code",
   "execution_count": 17,
   "id": "abcf409c-e9ee-4d11-a3cf-9724dd744977",
   "metadata": {
    "tags": []
   },
   "outputs": [],
   "source": [
    "class Pikachu(Pokemon):\n",
    "    def say_pika(self):\n",
    "        print(f'{self.name} is saying pika-pika')"
   ]
  },
  {
   "cell_type": "code",
   "execution_count": 19,
   "id": "bf92f290-9223-48b5-93d2-c06de3081dbd",
   "metadata": {
    "tags": []
   },
   "outputs": [
    {
     "name": "stdout",
     "output_type": "stream",
     "text": [
      "Pancho  is a water pokemon\n",
      "Hans is a electic pokemon\n",
      "Pancho  is pushing...\n",
      "Hans is pushing...\n",
      "Hans is saying pika-pika\n"
     ]
    }
   ],
   "source": [
    "my_pokemon = Pokemon('Pancho ', 'water')\n",
    "my_pikachu = Pikachu('Hans', 'electic')\n",
    "\n",
    "my_pokemon.describe()\n",
    "my_pikachu.describe()\n",
    "\n",
    "my_pokemon.attack()\n",
    "my_pikachu.attack()\n",
    "\n",
    "my_pikachu.say_pika()"
   ]
  },
  {
   "cell_type": "markdown",
   "id": "a037afeb-6ed5-4b5a-ba79-442dc48e9aa9",
   "metadata": {
    "tags": []
   },
   "source": [
    "### 3. Polymorphism"
   ]
  },
  {
   "cell_type": "code",
   "execution_count": 21,
   "id": "1e6fc0e5-e6ea-4db3-a6bd-9d088af1085f",
   "metadata": {
    "tags": []
   },
   "outputs": [],
   "source": [
    "class Charizard(Pokemon):\n",
    "    def attack(self, n):\n",
    "        print(f'{self.name} is attacking you with flametrower {n} times')\n",
    "        "
   ]
  },
  {
   "cell_type": "code",
   "execution_count": 22,
   "id": "9821e73e-ecf9-4d31-bedb-d844c21876d7",
   "metadata": {
    "tags": []
   },
   "outputs": [
    {
     "name": "stdout",
     "output_type": "stream",
     "text": [
      "perrito is a fire pokemon\n",
      "perrito is attacking you with flametrower 3 times\n"
     ]
    }
   ],
   "source": [
    "my_charizard = Charizard('perrito', 'fire')\n",
    "\n",
    "my_charizard.describe()\n",
    "my_charizard.attack(3)"
   ]
  },
  {
   "cell_type": "markdown",
   "id": "d935a401-f3e9-4400-87af-cb4a3afd36b5",
   "metadata": {},
   "source": [
    "### 4. Encapsulation - Data access levels"
   ]
  },
  {
   "cell_type": "code",
   "execution_count": 26,
   "id": "5f9b5c95-b91b-43d1-9073-a6e6fe03a61b",
   "metadata": {
    "tags": []
   },
   "outputs": [],
   "source": [
    "class Account:\n",
    "    def __init__(self, usr, psw, amount):\n",
    "        self.usr = usr\n",
    "        self.__psw = psw\n",
    "        self.__amount = amount\n",
    "        \n",
    "    def get__amount(self, psw):\n",
    "        if psw == self.__psw:\n",
    "            return self.__amount\n",
    "        else:\n",
    "            return 'Wrong psw'\n",
    "    \n",
    "    def set__amount(self, amount):\n",
    "        if psw == sel.__psw:\n",
    "            self.amount = amount\n",
    "        else:\n",
    "            print ('Wrong psw')"
   ]
  },
  {
   "cell_type": "code",
   "execution_count": 29,
   "id": "80077f0e-7100-4132-ae17-616bf29a4e89",
   "metadata": {
    "tags": []
   },
   "outputs": [
    {
     "name": "stdout",
     "output_type": "stream",
     "text": [
      "Value  0.12\n"
     ]
    },
    {
     "ename": "TypeError",
     "evalue": "Account.set__amount() takes 2 positional arguments but 3 were given",
     "output_type": "error",
     "traceback": [
      "\u001b[1;31m---------------------------------------------------------------------------\u001b[0m",
      "\u001b[1;31mTypeError\u001b[0m                                 Traceback (most recent call last)",
      "Cell \u001b[1;32mIn[29], line 6\u001b[0m\n\u001b[0;32m      3\u001b[0m amount \u001b[38;5;241m=\u001b[39m my_account\u001b[38;5;241m.\u001b[39mget__amount(\u001b[38;5;124m'\u001b[39m\u001b[38;5;124mpsw\u001b[39m\u001b[38;5;124m'\u001b[39m)\n\u001b[0;32m      4\u001b[0m \u001b[38;5;28mprint\u001b[39m(\u001b[38;5;124m'\u001b[39m\u001b[38;5;124mValue \u001b[39m\u001b[38;5;124m'\u001b[39m, amount)\n\u001b[1;32m----> 6\u001b[0m \u001b[43mmy_account\u001b[49m\u001b[38;5;241;43m.\u001b[39;49m\u001b[43mset__amount\u001b[49m\u001b[43m(\u001b[49m\u001b[38;5;241;43m25\u001b[39;49m\u001b[43m,\u001b[49m\u001b[43m \u001b[49m\u001b[38;5;124;43m'\u001b[39;49m\u001b[38;5;124;43mpsw\u001b[39;49m\u001b[38;5;124;43m'\u001b[39;49m\u001b[43m)\u001b[49m\n\u001b[0;32m      7\u001b[0m amount \u001b[38;5;241m=\u001b[39m my_account\u001b[38;5;241m.\u001b[39mget__amount(\u001b[38;5;124m'\u001b[39m\u001b[38;5;124mpsw\u001b[39m\u001b[38;5;124m'\u001b[39m)\n\u001b[0;32m      8\u001b[0m \u001b[38;5;28mprint\u001b[39m(\u001b[38;5;124m'\u001b[39m\u001b[38;5;124mValue: \u001b[39m\u001b[38;5;124m'\u001b[39m, amount)\n",
      "\u001b[1;31mTypeError\u001b[0m: Account.set__amount() takes 2 positional arguments but 3 were given"
     ]
    }
   ],
   "source": [
    "my_account = Account('Andrey ', 'psw', 0.12)\n",
    "\n",
    "amount = my_account.get__amount('psw')\n",
    "print('Value ', amount)\n",
    "\n",
    "my_account.set__amount(25, 'psw')\n",
    "amount = my_account.get__amount('psw')\n",
    "print('Value: ', amount)"
   ]
  }
 ],
 "metadata": {
  "kernelspec": {
   "display_name": "Python 3 (ipykernel)",
   "language": "python",
   "name": "python3"
  },
  "language_info": {
   "codemirror_mode": {
    "name": "ipython",
    "version": 3
   },
   "file_extension": ".py",
   "mimetype": "text/x-python",
   "name": "python",
   "nbconvert_exporter": "python",
   "pygments_lexer": "ipython3",
   "version": "3.10.9"
  },
  "toc-autonumbering": false,
  "toc-showmarkdowntxt": false,
  "toc-showtags": true
 },
 "nbformat": 4,
 "nbformat_minor": 5
}
