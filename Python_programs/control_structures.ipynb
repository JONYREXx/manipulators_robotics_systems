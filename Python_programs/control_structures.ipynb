{
 "cells": [
  {
   "cell_type": "markdown",
   "id": "89e2e2b7-d469-491d-80d4-beb1d08c4603",
   "metadata": {},
   "source": [
    "# Control structures\n",
    "1. If else\n",
    "2. While\n",
    "3. For"
   ]
  },
  {
   "cell_type": "markdown",
   "id": "c0ad9399-802f-4b14-8016-11efba44cb12",
   "metadata": {},
   "source": [
    "## 1. If-else"
   ]
  },
  {
   "cell_type": "code",
   "execution_count": 3,
   "id": "3d78bc6c-7f27-4689-a02c-942a1ef817b9",
   "metadata": {
    "tags": []
   },
   "outputs": [
    {
     "name": "stdin",
     "output_type": "stream",
     "text": [
      "write your age:  22\n"
     ]
    },
    {
     "name": "stdout",
     "output_type": "stream",
     "text": [
      "You are an adult\n"
     ]
    }
   ],
   "source": [
    "age = int(input('write your age: '))\n",
    "#print(type(age))\n",
    "\n",
    "if age >= 0 and age < 12:\n",
    "    print('You are a child')\n",
    "elif age >= 12 and age < 19:\n",
    "    print('You are an tennager')\n",
    "elif age >= 19 and age < 60:\n",
    "    print('You are an adult')\n",
    "elif age >= 60 and age < 120:\n",
    "    print('You are an elder')\n",
    "else:\n",
    "    print('Bad argument...')"
   ]
  },
  {
   "cell_type": "markdown",
   "id": "d57a377c-1274-4e05-8e8a-1bf52c372e80",
   "metadata": {},
   "source": [
    "## 2 While"
   ]
  },
  {
   "cell_type": "code",
   "execution_count": 11,
   "id": "e96c71a5-77af-47dc-a84f-be833e6dad93",
   "metadata": {},
   "outputs": [
    {
     "name": "stdin",
     "output_type": "stream",
     "text": [
      "Write an integer 20\n"
     ]
    },
    {
     "name": "stdout",
     "output_type": "stream",
     "text": [
      "2\n",
      "4\n",
      "6\n",
      "8\n",
      "10\n",
      "12\n",
      "14\n",
      "16\n",
      "18\n"
     ]
    }
   ],
   "source": [
    "val = int(input('Write an integer'))\n",
    "\n",
    "i = 1\n",
    "while i < val:\n",
    "    if i % 2 == 0:\n",
    "        print(i) \n",
    "    i += 1"
   ]
  },
  {
   "cell_type": "markdown",
   "id": "a0708fa8-4430-48cf-8a6b-8d523fc94acd",
   "metadata": {},
   "source": [
    "## 3. For"
   ]
  },
  {
   "cell_type": "code",
   "execution_count": 17,
   "id": "3ebbd54b-4e70-4ff6-80b8-cceeccdd39da",
   "metadata": {
    "tags": []
   },
   "outputs": [
    {
     "name": "stdin",
     "output_type": "stream",
     "text": [
      "Write an integer 25\n"
     ]
    },
    {
     "name": "stdout",
     "output_type": "stream",
     "text": [
      "2\n",
      "4\n",
      "6\n",
      "8\n",
      "10\n",
      "12\n",
      "14\n",
      "16\n",
      "18\n",
      "20\n",
      "22\n",
      "24\n"
     ]
    }
   ],
   "source": [
    "val = int(input('Write an integer'))\n",
    "\n",
    "for i in range(1, val):\n",
    "    if i % 2 == 0:\n",
    "        print(i)\n",
    "    "
   ]
  }
 ],
 "metadata": {
  "kernelspec": {
   "display_name": "Python 3 (ipykernel)",
   "language": "python",
   "name": "python3"
  },
  "language_info": {
   "codemirror_mode": {
    "name": "ipython",
    "version": 3
   },
   "file_extension": ".py",
   "mimetype": "text/x-python",
   "name": "python",
   "nbconvert_exporter": "python",
   "pygments_lexer": "ipython3",
   "version": "3.10.9"
  }
 },
 "nbformat": 4,
 "nbformat_minor": 5
}
