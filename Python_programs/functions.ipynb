{
 "cells": [
  {
   "cell_type": "markdown",
   "id": "43913e33-79e5-47c9-8aa5-cff0a2b1a619",
   "metadata": {},
   "source": [
    "# Functions\n",
    "1. Simple functions\n",
    "2. Lambdas\n",
    "3. Decorators"
   ]
  },
  {
   "cell_type": "markdown",
   "id": "c376c880-b838-437c-9b29-3bdf0123fad9",
   "metadata": {
    "tags": []
   },
   "source": [
    "#### 1. Simple functions"
   ]
  },
  {
   "cell_type": "code",
   "execution_count": 2,
   "id": "ef8c3042-0c93-44ad-b405-30884ec42861",
   "metadata": {
    "tags": []
   },
   "outputs": [
    {
     "name": "stdout",
     "output_type": "stream",
     "text": [
      "adition: -5.04, Subtraction: 9.64, Product -16.881999999999998, Division -0.31335149863760214\n"
     ]
    }
   ],
   "source": [
    "def operations(v1, v2):\n",
    "    return v1+v2, v1-v2, v1*v2, v1/v2\n",
    "\n",
    "r1, r2, r3, r4 = operations(2.3, -7.34)\n",
    "print(f'adition: {r1}, Subtraction: {r2}, Product {r3}, Division {r4}')"
   ]
  },
  {
   "cell_type": "code",
   "execution_count": 3,
   "id": "c708181b-d521-4920-9545-208f1c0d5358",
   "metadata": {
    "tags": []
   },
   "outputs": [
    {
     "name": "stdout",
     "output_type": "stream",
     "text": [
      "(3, -1, 2, 0.5)\n"
     ]
    }
   ],
   "source": [
    "r = operations (1,2)\n",
    "print(r)"
   ]
  },
  {
   "cell_type": "code",
   "execution_count": 4,
   "id": "00652fe5-1c7c-45dd-9a56-24dac65b5e44",
   "metadata": {
    "tags": []
   },
   "outputs": [
    {
     "name": "stdout",
     "output_type": "stream",
     "text": [
      "Average:  2.5\n"
     ]
    }
   ],
   "source": [
    "def avg1(n1,n2,n3,n4):\n",
    "    return (n1+n2+n3+n4)/4\n",
    "print('Average: ', avg1(1,2,3,4))"
   ]
  },
  {
   "cell_type": "code",
   "execution_count": 12,
   "id": "0be99bfe-9466-45fc-ba5b-f56d786b831d",
   "metadata": {
    "tags": []
   },
   "outputs": [
    {
     "name": "stdout",
     "output_type": "stream",
     "text": [
      "Average:  5.0\n"
     ]
    }
   ],
   "source": [
    "def avg2(*args):\n",
    "    return sum(args)/len(args)\n",
    "print('Average: ', avg2(1, 2, 3, 4, 5, 6, 7, 8, 9))"
   ]
  },
  {
   "cell_type": "markdown",
   "id": "fc92e604-c4fb-4436-a34f-dad498547eed",
   "metadata": {},
   "source": [
    "### 2. Lambdas"
   ]
  },
  {
   "cell_type": "code",
   "execution_count": 18,
   "id": "d45ad8f7-40fa-4b6e-b1bc-a8f467e3f71f",
   "metadata": {
    "tags": []
   },
   "outputs": [
    {
     "name": "stdout",
     "output_type": "stream",
     "text": [
      "Division:  5.0\n",
      "Division:  1.9619786349388544\n",
      "Division:  Bad argument\n"
     ]
    }
   ],
   "source": [
    "div = lambda v1, v2 : v1 / v2 if v2 != 0 else 'Bad argument'\n",
    "\n",
    "print('Division: ', div(10,2))\n",
    "print('Division: ', div(88.57484,45.14567))\n",
    "print('Division: ', div(10,0))"
   ]
  },
  {
   "cell_type": "markdown",
   "id": "403d10fc-7e96-42de-932c-0fb257dc20af",
   "metadata": {},
   "source": [
    "### 3. Decorators"
   ]
  },
  {
   "cell_type": "code",
   "execution_count": null,
   "id": "85703ed8-ca57-4334-9ba0-29f57af67fa2",
   "metadata": {},
   "outputs": [],
   "source": [
    "def my_title(fun):\n",
    "    def wrapper(*args):\n",
    "        print('Aritmetic operation')\n",
    "        print('Result: ')\n",
    "        print(fun(*args))\n",
    "        return fun(*args)\n",
    "    return wrapper"
   ]
  },
  {
   "cell_type": "code",
   "execution_count": 20,
   "id": "704e284e-336b-40b8-afa6-4e3d0e6c3e71",
   "metadata": {
    "tags": []
   },
   "outputs": [],
   "source": [
    "def add(v1, v2, v3):\n",
    "    return v1+v2+v3\n",
    "def sub(v1, v2, v3):\n",
    "    return v1-v2-v3\n",
    "\n",
    "r1 = add(3.4, 5.5, 7.7)\n",
    "r2 = sub(4.4, 7.7, 6.6)"
   ]
  },
  {
   "cell_type": "code",
   "execution_count": null,
   "id": "00992bff-e1d1-4bde-a9c9-fdc62789a8e5",
   "metadata": {},
   "outputs": [],
   "source": []
  }
 ],
 "metadata": {
  "kernelspec": {
   "display_name": "Python 3 (ipykernel)",
   "language": "python",
   "name": "python3"
  },
  "language_info": {
   "codemirror_mode": {
    "name": "ipython",
    "version": 3
   },
   "file_extension": ".py",
   "mimetype": "text/x-python",
   "name": "python",
   "nbconvert_exporter": "python",
   "pygments_lexer": "ipython3",
   "version": "3.10.9"
  }
 },
 "nbformat": 4,
 "nbformat_minor": 5
}
