{
 "cells": [
  {
   "cell_type": "markdown",
   "id": "c11d4d2b-2a99-4859-9a9e-02ca7b1b7486",
   "metadata": {},
   "source": [
    "# Data structures\n",
    "1. Sets\n",
    "2. List\n",
    "3. Tuples\n",
    "4. Dictionaries"
   ]
  },
  {
   "cell_type": "markdown",
   "id": "d0c2462b-4efe-4cb1-be52-f8814ec3dc3f",
   "metadata": {
    "tags": []
   },
   "source": [
    "## 1. Sets\n",
    "- Non-repeated structures\n",
    "- Non-ordered structures"
   ]
  },
  {
   "cell_type": "code",
   "execution_count": 2,
   "id": "628505b5-8099-4ea8-804d-e3b4733295b1",
   "metadata": {
    "tags": []
   },
   "outputs": [
    {
     "name": "stdout",
     "output_type": "stream",
     "text": [
      "{3.1416, 1, 2, 'Jonathan'}\n"
     ]
    }
   ],
   "source": [
    "my_set1 = {1, 2, 'Jonathan', True, 2, 3.1416, 'Jonathan'}\n",
    "print(my_set1)"
   ]
  },
  {
   "cell_type": "markdown",
   "id": "59ef7940-64a2-47b2-9d63-1dbe3e2aaf34",
   "metadata": {
    "tags": []
   },
   "source": [
    "### Set methods"
   ]
  },
  {
   "cell_type": "code",
   "execution_count": 3,
   "id": "1da127ae-e774-438e-8cd5-448c57fca46a",
   "metadata": {
    "tags": []
   },
   "outputs": [
    {
     "name": "stdout",
     "output_type": "stream",
     "text": [
      "{1, 2, 3.1416, 'Hernandez', 'Jonathan'}\n"
     ]
    }
   ],
   "source": [
    "# Adding an element to a set\n",
    "my_set1.add('Hernandez')\n",
    "print(my_set1)"
   ]
  },
  {
   "cell_type": "code",
   "execution_count": 5,
   "id": "e8fe0734-2aea-49dd-9331-900c10a2f51d",
   "metadata": {
    "tags": []
   },
   "outputs": [
    {
     "name": "stdout",
     "output_type": "stream",
     "text": [
      "Union:  {1, 2, 3.1416, 'Hernandez', 2.7014, 'cat', 'Jonathan', 'dog'}\n"
     ]
    }
   ],
   "source": [
    "# Union\n",
    "my_set2 = {'dog', 'cat', 2.7014, 3.1416, 'Jonathan'}\n",
    "print('Union: ', my_set1 | my_set2)"
   ]
  },
  {
   "cell_type": "code",
   "execution_count": 6,
   "id": "0760ed6d-2bad-453a-902e-d811d073c16d",
   "metadata": {
    "tags": []
   },
   "outputs": [
    {
     "name": "stdout",
     "output_type": "stream",
     "text": [
      "Intersection:  {'Jonathan', 3.1416}\n"
     ]
    }
   ],
   "source": [
    "# Intersection\n",
    "print('Intersection: ', my_set1 & my_set2)"
   ]
  },
  {
   "cell_type": "markdown",
   "id": "8961b35c-187f-40a2-ac21-c019e7eb7805",
   "metadata": {},
   "source": [
    "## 2. Lists\n",
    "- Ordered structures (indexed)\n",
    "- Mutable elements"
   ]
  },
  {
   "cell_type": "code",
   "execution_count": 13,
   "id": "751c5b1b-d4a6-4d55-b926-c4dc72efdb4f",
   "metadata": {
    "tags": []
   },
   "outputs": [
    {
     "name": "stdout",
     "output_type": "stream",
     "text": [
      "List 1 has this: ['Jonathan', 29, 'Luna', False] elements\n",
      "List 1 has this: [3.1416, ['l1', 3]] elements\n"
     ]
    }
   ],
   "source": [
    "my_list1 = ['Jonathan', 29, 'Luna', False]\n",
    "my_list2 = [3.1416, ['l1', 3]]\n",
    "\n",
    "print(f'List 1 has this: {my_list1} elements')\n",
    "print(f'List 1 has this: {my_list2} elements')"
   ]
  },
  {
   "cell_type": "markdown",
   "id": "47e060e8-3d14-4fe7-96ac-33f3aa66f240",
   "metadata": {},
   "source": [
    "### Indexing the elements"
   ]
  },
  {
   "cell_type": "code",
   "execution_count": 12,
   "id": "18fe94b6-ef01-40f2-89c9-9fdf122fced9",
   "metadata": {
    "tags": []
   },
   "outputs": [
    {
     "name": "stdout",
     "output_type": "stream",
     "text": [
      "My name is  Jonathan\n",
      "The name of my dog is  Luna\n"
     ]
    }
   ],
   "source": [
    "print('My name is ', my_list1[0])\n",
    "print('The name of my dog is ', my_list1[2])"
   ]
  },
  {
   "cell_type": "code",
   "execution_count": 14,
   "id": "cf9bfe60-7b54-4fc0-9aa6-2988ad62e34c",
   "metadata": {
    "tags": []
   },
   "outputs": [
    {
     "name": "stdout",
     "output_type": "stream",
     "text": [
      "[29, 'Luna']\n"
     ]
    }
   ],
   "source": [
    "print(my_list1[1:3])"
   ]
  },
  {
   "cell_type": "code",
   "execution_count": 19,
   "id": "29c2ad1b-9059-45ee-89ce-bf05dccd7c7e",
   "metadata": {
    "tags": []
   },
   "outputs": [
    {
     "name": "stdout",
     "output_type": "stream",
     "text": [
      "[3.1416, ['l1', 3]]\n",
      "<class 'float'>\n",
      "['3.1416', ['l1', 3]]\n",
      "<class 'str'>\n"
     ]
    }
   ],
   "source": [
    "print(my_list2)\n",
    "print(type(my_list2[0]))\n",
    "my_list2[0] = '3.1416'\n",
    "print(my_list2)\n",
    "print(type(my_list2[0]))"
   ]
  },
  {
   "cell_type": "code",
   "execution_count": 21,
   "id": "43b14292-9fbd-427e-b6d7-6b27425fa1a1",
   "metadata": {
    "tags": []
   },
   "outputs": [
    {
     "name": "stdout",
     "output_type": "stream",
     "text": [
      "l1\n"
     ]
    }
   ],
   "source": [
    "# Making reference to an element of a list inside of another list\n",
    "print(my_list2[1][0])"
   ]
  },
  {
   "cell_type": "markdown",
   "id": "c959cf63-d9a0-489a-8b4b-9e0dc701fe41",
   "metadata": {},
   "source": [
    "### List methods"
   ]
  },
  {
   "cell_type": "code",
   "execution_count": 22,
   "id": "a4de0ab0-496b-4908-8430-68483e7cdaea",
   "metadata": {
    "tags": []
   },
   "outputs": [
    {
     "name": "stdout",
     "output_type": "stream",
     "text": [
      "['3.1416', ['l1', 3], 'new']\n"
     ]
    }
   ],
   "source": [
    "# Appending an element\n",
    "my_list2.append('new')\n",
    "print(my_list2)"
   ]
  },
  {
   "cell_type": "markdown",
   "id": "685f3934-bfa5-4a35-b47a-30fd17f178f3",
   "metadata": {},
   "source": [
    "## 3. Tuples\n",
    "- Ordered structures\n",
    "- Non-mutable "
   ]
  },
  {
   "cell_type": "code",
   "execution_count": 24,
   "id": "51831627-4fb8-42d1-bee0-cf4f0d44f0b5",
   "metadata": {
    "tags": []
   },
   "outputs": [
    {
     "name": "stdout",
     "output_type": "stream",
     "text": [
      "The name of Jonathans dog its Moon\n"
     ]
    }
   ],
   "source": [
    "my_tuple1 = ('Jonathan', 29, 'Moon')\n",
    "print(f'The name of {my_tuple1[0]}s dog its {my_tuple1[2]}')"
   ]
  },
  {
   "cell_type": "code",
   "execution_count": 25,
   "id": "2e81afed-c41e-46e9-a854-d7d83eabb7ad",
   "metadata": {
    "tags": []
   },
   "outputs": [
    {
     "ename": "TypeError",
     "evalue": "'tuple' object does not support item assignment",
     "output_type": "error",
     "traceback": [
      "\u001b[1;31m---------------------------------------------------------------------------\u001b[0m",
      "\u001b[1;31mTypeError\u001b[0m                                 Traceback (most recent call last)",
      "Cell \u001b[1;32mIn[25], line 1\u001b[0m\n\u001b[1;32m----> 1\u001b[0m \u001b[43mmy_tuple1\u001b[49m\u001b[43m[\u001b[49m\u001b[38;5;241;43m0\u001b[39;49m\u001b[43m]\u001b[49m \u001b[38;5;241m=\u001b[39m \u001b[38;5;124m'\u001b[39m\u001b[38;5;124mAndrey\u001b[39m\u001b[38;5;124m'\u001b[39m\n",
      "\u001b[1;31mTypeError\u001b[0m: 'tuple' object does not support item assignment"
     ]
    }
   ],
   "source": [
    "my_tuple1[0] = 'Andrey'"
   ]
  },
  {
   "cell_type": "markdown",
   "id": "cd2bc475-69fb-42db-8072-31694cc24c60",
   "metadata": {},
   "source": [
    "## 4. Dictionaries\n",
    "-  Non-ordered \n",
    "-  Mutable\n",
    "-  Every value of a dictionary is composed by {key:value}"
   ]
  },
  {
   "cell_type": "code",
   "execution_count": 7,
   "id": "c8e3a20e-8647-41b2-a88b-6a4ebf907db4",
   "metadata": {
    "tags": []
   },
   "outputs": [
    {
     "name": "stdout",
     "output_type": "stream",
     "text": [
      "{'Name': 'Andrey', 'Surname': 'Hernandez', 'Birthday': 22, 'Student': True}\n"
     ]
    }
   ],
   "source": [
    "my_dict1 = {'Name':'Andrey', 'Surname': 'Hernandez', 'Birthday': 22, 'Student': True}\n",
    "print(my_dict1)"
   ]
  },
  {
   "cell_type": "code",
   "execution_count": 8,
   "id": "e3996544-4559-4519-aad5-becfdb6c45c8",
   "metadata": {
    "tags": []
   },
   "outputs": [
    {
     "name": "stdout",
     "output_type": "stream",
     "text": [
      "{'Name': 'Andrey', 'Surname': 'Hernandez', 'Birthday': 22, 'Student': True, 'Grades': [10.0, 10.0, 10.0, 9.9]}\n"
     ]
    }
   ],
   "source": [
    "#Add an element\n",
    "my_dict1['Grades'] = [10.0, 10.0, 10.0, 9.9]\n",
    "\n",
    "print(my_dict1)"
   ]
  },
  {
   "cell_type": "code",
   "execution_count": 9,
   "id": "2b9fa262-e971-4831-aa35-e42b3400e2c3",
   "metadata": {
    "tags": []
   },
   "outputs": [
    {
     "name": "stdout",
     "output_type": "stream",
     "text": [
      "{'Name': 'Andrey', 'Surname': 'Hernandez', 'Birthday': 22, 'Student': True, 'Grades': [7.0, 7.0, 7.0, 7.0]}\n"
     ]
    }
   ],
   "source": [
    "#Changing an element\n",
    "my_dict1['Grades'] = [7.0, 7.0, 7.0, 7.0]\n",
    "print(my_dict1)"
   ]
  },
  {
   "cell_type": "code",
   "execution_count": 10,
   "id": "478e162d-7f88-4461-aba5-cca9f92ce419",
   "metadata": {
    "tags": []
   },
   "outputs": [
    {
     "name": "stdout",
     "output_type": "stream",
     "text": [
      "{'Name': 'Andrey', 'Surname': 'Hernandez', 'Birthday': 22, 'Student': True}\n"
     ]
    }
   ],
   "source": [
    "# Deleting an element\n",
    "del my_dict1['Grades']\n",
    "print(my_dict1)"
   ]
  },
  {
   "cell_type": "code",
   "execution_count": 11,
   "id": "19a4571e-b0f4-43e9-b154-a893d067a6e1",
   "metadata": {
    "tags": []
   },
   "outputs": [
    {
     "name": "stdout",
     "output_type": "stream",
     "text": [
      "dict_keys(['Name', 'Surname', 'Birthday', 'Student'])\n"
     ]
    }
   ],
   "source": [
    "# Getting the keys\n",
    "print(my_dict1.keys())"
   ]
  },
  {
   "cell_type": "code",
   "execution_count": 12,
   "id": "4627e459-24d6-4f89-a588-ad22572c9b41",
   "metadata": {
    "tags": []
   },
   "outputs": [
    {
     "name": "stdout",
     "output_type": "stream",
     "text": [
      "dict_values(['Andrey', 'Hernandez', 22, True])\n"
     ]
    }
   ],
   "source": [
    "# Getting the values\n",
    "print(my_dict1.values())"
   ]
  }
 ],
 "metadata": {
  "kernelspec": {
   "display_name": "Python 3 (ipykernel)",
   "language": "python",
   "name": "python3"
  },
  "language_info": {
   "codemirror_mode": {
    "name": "ipython",
    "version": 3
   },
   "file_extension": ".py",
   "mimetype": "text/x-python",
   "name": "python",
   "nbconvert_exporter": "python",
   "pygments_lexer": "ipython3",
   "version": "3.10.9"
  }
 },
 "nbformat": 4,
 "nbformat_minor": 5
}
